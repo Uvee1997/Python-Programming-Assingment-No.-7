{
 "cells": [
  {
   "cell_type": "markdown",
   "id": "c05b1819",
   "metadata": {},
   "source": [
    "1) Write a Python Program to find sum of array?"
   ]
  },
  {
   "cell_type": "code",
   "execution_count": 1,
   "id": "ac45133f",
   "metadata": {},
   "outputs": [
    {
     "name": "stdout",
     "output_type": "stream",
     "text": [
      "sum of the arr is  30\n"
     ]
    }
   ],
   "source": [
    "arr = []\n",
    "arr = [10,2,5,13]\n",
    "\n",
    "ans = sum(arr)\n",
    "print(\"sum of the arr is \", ans)"
   ]
  },
  {
   "cell_type": "markdown",
   "id": "24030c93",
   "metadata": {},
   "source": [
    "2) Write a Python program to find largest element in an array?"
   ]
  },
  {
   "cell_type": "code",
   "execution_count": 9,
   "id": "7a1fd2b8",
   "metadata": {},
   "outputs": [
    {
     "name": "stdout",
     "output_type": "stream",
     "text": [
      "largest element in given arr is 100\n"
     ]
    }
   ],
   "source": [
    "def largest(arr,n):\n",
    "    max = arr[0]\n",
    "    for i in range(1,n):\n",
    "        if arr[i] > max:\n",
    "            max = arr[i]\n",
    "    return max\n",
    "    \n",
    "arr = [10,100,50,5]\n",
    "n = len(arr)\n",
    "ans = largest(arr,n)\n",
    "print(\"largest element in given arr is\", ans)\n"
   ]
  },
  {
   "cell_type": "markdown",
   "id": "1cc59ac0",
   "metadata": {},
   "source": [
    "3) Write a Python Program for array rotation?"
   ]
  },
  {
   "cell_type": "code",
   "execution_count": 15,
   "id": "edd195ac",
   "metadata": {},
   "outputs": [
    {
     "name": "stdout",
     "output_type": "stream",
     "text": [
      "[1, 2, 3, 4, 5, 6]\n",
      "Rotated list is\n",
      "[3, 4, 5, 6, 1, 2]\n"
     ]
    }
   ],
   "source": [
    "def rotatedlist(arr,d,n):\n",
    "    arr[:] = arr[d:n] + arr[0:d]\n",
    "    return arr\n",
    "arr = [1,2,3,4,5,6]\n",
    "print(arr)\n",
    "print(\"Rotated list is\")\n",
    "print(rotatedlist(arr,2,len(arr)))"
   ]
  },
  {
   "cell_type": "markdown",
   "id": "96367d9b",
   "metadata": {},
   "source": [
    "4) Write a Python Program to Split the array and add the first part to the end?"
   ]
  },
  {
   "cell_type": "code",
   "execution_count": 26,
   "id": "74c92cc4",
   "metadata": {},
   "outputs": [
    {
     "name": "stdout",
     "output_type": "stream",
     "text": [
      "20 30 6 88 12 10 "
     ]
    }
   ],
   "source": [
    "def SplitArr(arr,n,k):\n",
    "    for i in range(0,k):\n",
    "        x = arr[0]\n",
    "        for j in range(0,n-1):\n",
    "            arr[j] = arr[j+1]\n",
    "         \n",
    "        arr[n-1] = x\n",
    "    \n",
    "arr = [20 , 30 , 6 , 88 , 12 , 10]\n",
    "n = len(arr)\n",
    "position = 2\n",
    "\n",
    "for i in range(0,n):\n",
    "    print(arr[i], end = ' ')\n"
   ]
  },
  {
   "cell_type": "markdown",
   "id": "d4be42cf",
   "metadata": {},
   "source": [
    "5) Write a Python Program to check if given array is Monotonic?"
   ]
  },
  {
   "cell_type": "code",
   "execution_count": 29,
   "id": "d211eaff",
   "metadata": {},
   "outputs": [
    {
     "name": "stdout",
     "output_type": "stream",
     "text": [
      "True\n"
     ]
    }
   ],
   "source": [
    "def isMonotonic(A):\n",
    "    return (all(A[i] <= A[i+1] for i in range(len(A) - 1)) or\n",
    "           all(A[i] >= A[i+1] for i in range(len(A) - 1)))\n",
    "\n",
    "A = [6,5,4,3]\n",
    "print(isMonotonic(A))"
   ]
  },
  {
   "cell_type": "code",
   "execution_count": null,
   "id": "556e5a33",
   "metadata": {},
   "outputs": [],
   "source": []
  }
 ],
 "metadata": {
  "kernelspec": {
   "display_name": "Python 3 (ipykernel)",
   "language": "python",
   "name": "python3"
  },
  "language_info": {
   "codemirror_mode": {
    "name": "ipython",
    "version": 3
   },
   "file_extension": ".py",
   "mimetype": "text/x-python",
   "name": "python",
   "nbconvert_exporter": "python",
   "pygments_lexer": "ipython3",
   "version": "3.9.7"
  }
 },
 "nbformat": 4,
 "nbformat_minor": 5
}
