{
 "cells": [
  {
   "cell_type": "code",
   "execution_count": 3,
   "id": "82cba13b",
   "metadata": {},
   "outputs": [
    {
     "name": "stdout",
     "output_type": "stream",
     "text": [
      "26\n",
      "[0, 8, 16, 24]\n",
      "0 True\n",
      "1 False\n",
      "2 False\n",
      "3 False\n",
      "4 False\n",
      "5 False\n",
      "6 False\n",
      "7 False\n",
      "8 True\n",
      "9 False\n",
      "10 False\n",
      "11 False\n",
      "12 False\n",
      "13 False\n",
      "14 False\n",
      "15 False\n",
      "16 True\n",
      "17 False\n",
      "18 False\n",
      "19 False\n",
      "20 False\n",
      "21 False\n",
      "22 False\n",
      "23 False\n",
      "24 True\n",
      "25 False\n"
     ]
    }
   ],
   "source": [
    "n = int(input())\n",
    "divBy7 = [i for i in range(0,n) if (i & 7 == 0)]\n",
    "print(divBy7)\n",
    "\n",
    "def divChecker(n):\n",
    "    for i in range(n):\n",
    "        if i & 7 == 0:\n",
    "            value = True\n",
    "        else:\n",
    "            value = False\n",
    "        print(i, value)\n",
    "divChecker(n)                   "
   ]
  },
  {
   "cell_type": "code",
   "execution_count": null,
   "id": "8d9b817f",
   "metadata": {},
   "outputs": [],
   "source": [
    "Q.2)"
   ]
  },
  {
   "cell_type": "code",
   "execution_count": 7,
   "id": "abd97a53",
   "metadata": {},
   "outputs": [
    {
     "name": "stdout",
     "output_type": "stream",
     "text": [
      "Type in: abcxyz\n",
      "[('abcxyz', 1)]\n",
      "abcxyz 1\n"
     ]
    }
   ],
   "source": [
    "import operator\n",
    "text_line = input(\"Type in: \")\n",
    "freq_dict = {}\n",
    "for i in text_line.split(' '):\n",
    "    if i.isalpha():\n",
    "        if i not in freq_dict:\n",
    "            freq_dict[i] = 1\n",
    "        elif i in freq_dict:\n",
    "            freq_dict[i] = freq_dict[i] + 1\n",
    "        else:\n",
    "            pass\n",
    "sorted_freq_dict = sorted(freq_dict.items(), key = operator.itemgetter(0))\n",
    "print(sorted_freq_dict)\n",
    "\n",
    "for i in sorted_freq_dict:\n",
    "    print(i[0], i[1])"
   ]
  },
  {
   "cell_type": "markdown",
   "id": "b7d89bc5",
   "metadata": {},
   "source": [
    "Q.3)"
   ]
  },
  {
   "cell_type": "code",
   "execution_count": null,
   "id": "6cd4d470",
   "metadata": {},
   "outputs": [],
   "source": [
    "class Person(object):\n",
    "    def getGender(self):\n",
    "        return \"Unknown\"\n",
    "class Male(Person):\n",
    "    def getGender(self):\n",
    "        return \"Male\"\n",
    "class Female(Person):\n",
    "    def getGender(self):\n",
    "        return \"Female\"\n",
    "aMale = Male()\n",
    "aFemale = Female()\n",
    "print aMale.getGender()\n",
    "print aFemale.getGender()\n",
    "\n",
    "class Person(object):\n",
    "    def __init__(self):\n",
    "        self.gender = \"unknown\"\n",
    "     \n",
    "    def getGender(self):\n",
    "        print(self.gender)\n",
    "        \n",
    "class Male(Person):\n",
    "    def __init__(self):\n",
    "        self.gender = \"Male\"\n",
    "        \n",
    "class Female(Person):\n",
    "    def __init__(self):\n",
    "        self.gender = \"Female\"\n",
    "Kaveri = Female()\n",
    "Raj = Male()\n",
    "Kaveri.getGender()\n",
    "Raj.getGender()"
   ]
  },
  {
   "cell_type": "markdown",
   "id": "c60fbdd2",
   "metadata": {},
   "source": [
    "Q.4)"
   ]
  },
  {
   "cell_type": "code",
   "execution_count": 18,
   "id": "4a8491e9",
   "metadata": {},
   "outputs": [
    {
     "name": "stdout",
     "output_type": "stream",
     "text": [
      "I Play Hockey\n",
      "I Play Football\n",
      "I Love Hockey\n",
      "I Love Football\n",
      "You Play Hockey\n",
      "You Play Football\n",
      "You Love Hockey\n",
      "You Love Football\n"
     ]
    }
   ],
   "source": [
    "subject = [\"I\",\"You\"]\n",
    "verb = [\"Play\",\"Love\"]\n",
    "object = [\"Hockey\",\"Football\"]\n",
    "\n",
    "sentence_list = [(sub+\" \"+ vb +\" \"+ ob) for sub in subject for vb in verb for ob in object]\n",
    "for sentence in sentence_list:\n",
    "    print(sentence)"
   ]
  },
  {
   "cell_type": "markdown",
   "id": "225e45d4",
   "metadata": {},
   "source": [
    "Q.5)"
   ]
  },
  {
   "cell_type": "code",
   "execution_count": null,
   "id": "52e99d79",
   "metadata": {},
   "outputs": [],
   "source": [
    "import zlib\n",
    "s = \"hello world!hello world!hello world!hello world!\"\n",
    "t = zlib.compress(s)\n",
    "print(t)\n",
    "print zlib.decompress(t)\n",
    "y = bytes(s, 'utf-8')\n",
    "x = zlib.compress(y)\n",
    "print(x)\n",
    "print(zlib.decompress(x))"
   ]
  },
  {
   "cell_type": "markdown",
   "id": "15ce006f",
   "metadata": {},
   "source": [
    "Q.6)"
   ]
  },
  {
   "cell_type": "code",
   "execution_count": null,
   "id": "98b5d02a",
   "metadata": {},
   "outputs": [],
   "source": [
    "import math\n",
    "def bin_search(li, element):\n",
    "    bottom = 0 \n",
    "    top = len(li)-1\n",
    "    index = -1\n",
    "    while top>=bottom and index==-1:\n",
    "        mid = int(math.floor((top+bottom)/2.0))\n",
    "        if li[mid]==element:\n",
    "            index = mid\n",
    "        elif li[mid]>element:\n",
    "            top = mid-1\n",
    "        else:\n",
    "            bottom = mid+1\n",
    "    return index\n",
    "li=[2,5,7,9,11,17,222]\n",
    "print bin_search(li,11)\n",
    "print bin_search(li,12)"
   ]
  },
  {
   "cell_type": "code",
   "execution_count": null,
   "id": "73489bdd",
   "metadata": {},
   "outputs": [],
   "source": []
  }
 ],
 "metadata": {
  "kernelspec": {
   "display_name": "Python 3 (ipykernel)",
   "language": "python",
   "name": "python3"
  },
  "language_info": {
   "codemirror_mode": {
    "name": "ipython",
    "version": 3
   },
   "file_extension": ".py",
   "mimetype": "text/x-python",
   "name": "python",
   "nbconvert_exporter": "python",
   "pygments_lexer": "ipython3",
   "version": "3.9.13"
  }
 },
 "nbformat": 4,
 "nbformat_minor": 5
}
